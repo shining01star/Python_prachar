{
  "nbformat": 4,
  "nbformat_minor": 0,
  "metadata": {
    "colab": {
      "provenance": [],
      "authorship_tag": "ABX9TyNERKHU+cvzrgxgAVbfNgdo",
      "include_colab_link": true
    },
    "kernelspec": {
      "name": "python3",
      "display_name": "Python 3"
    },
    "language_info": {
      "name": "python"
    }
  },
  "cells": [
    {
      "cell_type": "markdown",
      "metadata": {
        "id": "view-in-github",
        "colab_type": "text"
      },
      "source": [
        "<a href=\"https://colab.research.google.com/github/shining01star/Python_prachar/blob/main/Day2.ipynb\" target=\"_parent\"><img src=\"https://colab.research.google.com/assets/colab-badge.svg\" alt=\"Open In Colab\"/></a>"
      ]
    },
    {
      "cell_type": "code",
      "execution_count": 3,
      "metadata": {
        "colab": {
          "base_uri": "https://localhost:8080/"
        },
        "id": "cFgTHNBTf46r",
        "outputId": "0a61406c-d94d-4deb-e6f5-cdfcb2b24c4d"
      },
      "outputs": [
        {
          "output_type": "stream",
          "name": "stdout",
          "text": [
            "Enter value in kilometers: 2\n",
            "2.0 km is equal to 1.242742 miles.\n"
          ]
        }
      ],
      "source": [
        "#6. Write a Python Program to convert Kilometers to miles.\n",
        "#for this we will use conversion factor.\n",
        "kilometers = float(input(\"Enter value in kilometers: \"))\n",
        "conv_fac = 0.621371 #1km = 0.621 miles\n",
        "miles = kilometers * conv_fac\n",
        "print(f\"{kilometers} km is equal to {miles} miles.\")"
      ]
    },
    {
      "cell_type": "code",
      "source": [
        "#7. Write a program to convert Celsius to Fahrenheit.\n",
        "#same conversion formula use\n",
        "celsius = float(input(\"Enter temperature in celsius: \"))\n",
        "fahrenheit = (celsius * 1.8) + 32\n",
        "print(f\"{celsius}°C is equal to {fahrenheit}°F.\")"
      ],
      "metadata": {
        "colab": {
          "base_uri": "https://localhost:8080/"
        },
        "id": "brd72pj8gMcg",
        "outputId": "c06e09e4-b787-49fb-94b2-869b8b2f0ced"
      },
      "execution_count": 4,
      "outputs": [
        {
          "output_type": "stream",
          "name": "stdout",
          "text": [
            "Enter temperature in celsius: 37\n",
            "37.0°C is equal to 98.60000000000001°F.\n"
          ]
        }
      ]
    },
    {
      "cell_type": "code",
      "source": [
        "#8. Write a program to display calender.\n",
        "#first use calender package ---> we will get to know year and month ---> make variable cal which will fetch the month of that particular year ---> print\n",
        "import calendar\n",
        "year = int(input(\"Enter year: \"))\n",
        "month = int(input(\"Enter month: \"))\n",
        "cal = calendar.month(year, month)\n",
        "print(cal)\n"
      ],
      "metadata": {
        "colab": {
          "base_uri": "https://localhost:8080/"
        },
        "id": "RZBJSWTchLsT",
        "outputId": "ea96fefb-b514-40bc-c350-f086d64e2a55"
      },
      "execution_count": 9,
      "outputs": [
        {
          "output_type": "stream",
          "name": "stdout",
          "text": [
            "Enter year: 2025\n",
            "Enter month: 7\n",
            "     July 2025\n",
            "Mo Tu We Th Fr Sa Su\n",
            "    1  2  3  4  5  6\n",
            " 7  8  9 10 11 12 13\n",
            "14 15 16 17 18 19 20\n",
            "21 22 23 24 25 26 27\n",
            "28 29 30 31\n",
            "\n"
          ]
        }
      ]
    },
    {
      "cell_type": "code",
      "source": [
        "#9. Write a Python Program to solve Quadratic equation\n",
        "import math\n",
        "a = float(input(\"Enter value of a: \"))\n",
        "b = float(input(\"Enter value of b: \"))\n",
        "c = float(input(\"Enter value of c: \"))\n",
        "#calculate discriminant\n",
        "discriminant = b**2 - 4*a*c\n",
        "\n",
        "if discriminant > 0:\n",
        "    root1 = (-b + math.sqrt(discriminant)) / (2*a)\n",
        "    root2 = (-b - math.sqrt(discriminant)) / (2*a)\n",
        "    print(f\"Root 1: {root1}\")\n",
        "    print(f\"Root 2: {root2}\")\n",
        "elif discriminant == 0:\n",
        "    root1 = -b / (2*a)\n",
        "    print(f\"Root: {root1}\")\n",
        "else:\n",
        "    real_part = -b / (2*a)\n",
        "    imaginary_part = math.sqrt(abs(discriminant)) / (2*a)\n",
        "    print(f\"Root 1: {real_part} + {imaginary_part}i\")"
      ],
      "metadata": {
        "colab": {
          "base_uri": "https://localhost:8080/"
        },
        "id": "kQCyn2NIiXkW",
        "outputId": "42834a8f-01e0-4499-bbda-d75b77f8242b"
      },
      "execution_count": 1,
      "outputs": [
        {
          "output_type": "stream",
          "name": "stdout",
          "text": [
            "Enter value of a: 10\n",
            "Enter value of b: 20\n",
            "Enter value of c: 30\n",
            "Root 1: -1.0 + 1.4142135623730951i\n"
          ]
        }
      ]
    },
    {
      "cell_type": "code",
      "source": [
        "#10. Write a Python Program to swap two variables without temp variables.\n",
        "a= 5\n",
        "b = 10\n",
        "\n",
        "a,b =b,a\n",
        "print(\"After swapping\")\n",
        "print(f\"a = {a}\")\n",
        "print(f\"b = {b}\")"
      ],
      "metadata": {
        "colab": {
          "base_uri": "https://localhost:8080/"
        },
        "id": "nWIAMMYSG1Gu",
        "outputId": "f8fc8c10-5e50-4725-e5e2-9e3e1952277a"
      },
      "execution_count": 2,
      "outputs": [
        {
          "output_type": "stream",
          "name": "stdout",
          "text": [
            "After swapping\n",
            "a = 10\n",
            "b = 5\n"
          ]
        }
      ]
    }
  ]
}