{
  "nbformat": 4,
  "nbformat_minor": 0,
  "metadata": {
    "colab": {
      "provenance": [],
      "authorship_tag": "ABX9TyP5MTxL5XPftZu2UHhuL40Q",
      "include_colab_link": true
    },
    "kernelspec": {
      "name": "python3",
      "display_name": "Python 3"
    },
    "language_info": {
      "name": "python"
    }
  },
  "cells": [
    {
      "cell_type": "markdown",
      "metadata": {
        "id": "view-in-github",
        "colab_type": "text"
      },
      "source": [
        "<a href=\"https://colab.research.google.com/github/shining01star/Python_prachar/blob/main/Day03.ipynb\" target=\"_parent\"><img src=\"https://colab.research.google.com/assets/colab-badge.svg\" alt=\"Open In Colab\"/></a>"
      ]
    },
    {
      "cell_type": "markdown",
      "source": [
        "11. Python program to check if a number is positive , negative or zero.\n",
        "Procedure---> first ask the number from user---> start if-elif statement under conditions"
      ],
      "metadata": {
        "id": "jA99nY24oKM-"
      }
    },
    {
      "cell_type": "code",
      "execution_count": 2,
      "metadata": {
        "colab": {
          "base_uri": "https://localhost:8080/"
        },
        "id": "DzeO4fvQnisJ",
        "outputId": "4aace9d5-09a8-4864-beca-ad1d6604c571"
      },
      "outputs": [
        {
          "output_type": "stream",
          "name": "stdout",
          "text": [
            "Enter a number: 5\n",
            "Positive number\n"
          ]
        }
      ],
      "source": [
        "#11\n",
        "num= float(input(\"Enter a number: \"))\n",
        "if num>0 :\n",
        "  print(\"Positive number\")\n",
        "elif num==0:\n",
        "    print(\"Zero\")\n",
        "else:\n",
        "    print(\"Negative number\")"
      ]
    },
    {
      "cell_type": "markdown",
      "source": [
        "12. Write a Python Program to check if a Number is odd or Even.\n",
        "Procedure-----> same ask for number----> start if/else (for getting even no. we use num%2 ==o ) operator."
      ],
      "metadata": {
        "id": "Swt2GtkZo_SU"
      }
    },
    {
      "cell_type": "code",
      "source": [
        "#12\n",
        "num= int(input(\"Enter a number: \"))\n",
        "if (num%2)==0:\n",
        "  print(\"{0} is Even\".format(num))\n",
        "else:\n",
        "  print(\"{0} is Odd\".format(num))"
      ],
      "metadata": {
        "colab": {
          "base_uri": "https://localhost:8080/"
        },
        "id": "s1jWkmdepbVd",
        "outputId": "a599286c-7c2a-48dd-bd35-a34562fa6691"
      },
      "execution_count": 3,
      "outputs": [
        {
          "output_type": "stream",
          "name": "stdout",
          "text": [
            "Enter a number: 3\n",
            "3 is Odd\n"
          ]
        }
      ]
    },
    {
      "cell_type": "markdown",
      "source": [
        "13. Write a Program to check Leap Year.\n",
        "Procedure-----> ask year from user ---> start if, elif statement again ---> here is a rule like if you divide a year by 100 means Centuary year and by 400 means Leap year if both conditions are not satisfied then it is not a Leap Year."
      ],
      "metadata": {
        "id": "xfl_JWIHpnIk"
      }
    },
    {
      "cell_type": "code",
      "source": [
        "#13\n",
        "year = int(input(\"Enter a year: \"))\n",
        "if (year%400 == 0) and (year%100 == 0):\n",
        "  print(\"{0} is a leap year\".format(year))\n",
        "elif (year%4 == 0) and (year%100 != 0):\n",
        "  print(\"{0} is a leap year\".format(year))\n",
        "else:\n",
        "  print(\"{0} is not a leap year\".format(year))"
      ],
      "metadata": {
        "colab": {
          "base_uri": "https://localhost:8080/"
        },
        "id": "v03xu993uIQt",
        "outputId": "a5f5af87-9cca-4fe7-c0b4-96889b66671e"
      },
      "execution_count": 6,
      "outputs": [
        {
          "output_type": "stream",
          "name": "stdout",
          "text": [
            "Enter a year: 2000\n",
            "2000 is a leap year\n"
          ]
        }
      ]
    },
    {
      "cell_type": "markdown",
      "source": [
        "14. Write a Python Program to Check Prime Numbers.\n",
        "Prime no. - A prime number is a whole number that cannot be evenly divided by any other number except for 1 and itself.\n",
        "Procedure ----> ask user to input the numberv-----> define a flag variable either True of false. ----> start if statement num is 1 then not a prime no. if >1 then check for its factors. -----> Start for loop if factor find , set flag to True,\n",
        "if the flag is true, then is not a prime no. if false, it is a prime number."
      ],
      "metadata": {
        "id": "_ejkQ24xu_eK"
      }
    },
    {
      "cell_type": "code",
      "source": [
        "#14\n",
        "num = int(input(\"Enter a number: \"))\n",
        "\n",
        "flag = False\n",
        "\n",
        "if num == 1:\n",
        "  print(num, \"is not a prime number\")\n",
        "elif num > 1:\n",
        "  for i in range(2, num):\n",
        "    if (num % i) == 0:\n",
        "      flag = True\n",
        "      break\n",
        "\n",
        "if flag:\n",
        "  print(num, \"is not a prime number\")\n",
        "else:\n",
        "  print(num, \"is a prime number\")"
      ],
      "metadata": {
        "colab": {
          "base_uri": "https://localhost:8080/"
        },
        "id": "mC6jaDmJwbm3",
        "outputId": "423e733f-5feb-4079-e845-9d7fdc545113"
      },
      "execution_count": 7,
      "outputs": [
        {
          "output_type": "stream",
          "name": "stdout",
          "text": [
            "Enter a number: 5\n",
            "5 is a prime number\n"
          ]
        }
      ]
    },
    {
      "cell_type": "markdown",
      "source": [
        "15. Write a python program to print all Prime numbers in an Interval of 1-10.\n"
      ],
      "metadata": {
        "id": "Z_ft1ohyyERr"
      }
    },
    {
      "cell_type": "code",
      "source": [],
      "metadata": {
        "id": "J3rhxXVsyCY8"
      },
      "execution_count": null,
      "outputs": []
    },
    {
      "cell_type": "markdown",
      "source": [],
      "metadata": {
        "id": "Na-qqFVdoI5y"
      }
    }
  ]
}