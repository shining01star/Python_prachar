{
  "nbformat": 4,
  "nbformat_minor": 0,
  "metadata": {
    "colab": {
      "provenance": [],
      "authorship_tag": "ABX9TyPTBawmtOrYrCgS8nGaSHqN",
      "include_colab_link": true
    },
    "kernelspec": {
      "name": "python3",
      "display_name": "Python 3"
    },
    "language_info": {
      "name": "python"
    }
  },
  "cells": [
    {
      "cell_type": "markdown",
      "metadata": {
        "id": "view-in-github",
        "colab_type": "text"
      },
      "source": [
        "<a href=\"https://colab.research.google.com/github/shining01star/Python_prachar/blob/main/Day1.ipynb\" target=\"_parent\"><img src=\"https://colab.research.google.com/assets/colab-badge.svg\" alt=\"Open In Colab\"/></a>"
      ]
    },
    {
      "cell_type": "code",
      "source": [
        "\n",
        "#1. write a python program to print hello.\n",
        "\n",
        "print(\"hello friends\")\n",
        "#you can use end or separator to add more information after this\n",
        "print(\"hello friends\", end=\" \")\n",
        "print(\"how your vacation is going on?\")"
      ],
      "metadata": {
        "colab": {
          "base_uri": "https://localhost:8080/"
        },
        "id": "LKZg4La2Yr1z",
        "outputId": "9e75cb01-1f68-4cbb-e30a-9d300b9c4ebe"
      },
      "execution_count": null,
      "outputs": [
        {
          "output_type": "stream",
          "name": "stdout",
          "text": [
            "hello friends\n",
            "hello friends how your vacation is going on?\n"
          ]
        }
      ]
    },
    {
      "cell_type": "code",
      "source": [
        "#2. Write a python program to do airthematic operations\n",
        "\n",
        "a = int(input(\"Enter your pre- marks- \"))\n",
        "b = int(input(\"Enter your mains- marks- \"))\n",
        "print(a+b)\n",
        "print(a-b)\n",
        "print(a*b)\n",
        "print(a/b)"
      ],
      "metadata": {
        "colab": {
          "base_uri": "https://localhost:8080/"
        },
        "id": "DW6MCM-3ZVkM",
        "outputId": "e7066c72-4f82-4d9e-fc0e-2298c79fe605"
      },
      "execution_count": null,
      "outputs": [
        {
          "output_type": "stream",
          "name": "stdout",
          "text": [
            "Enter your pre- marks- 30\n",
            "Enter your mains- marks- 40\n",
            "70\n",
            "-10\n",
            "1200\n",
            "0.75\n"
          ]
        }
      ]
    },
    {
      "cell_type": "code",
      "source": [
        "#3. Write a python program to find the area of triangle.\n",
        "\n",
        "base = float(input(\"Enter the lenghth of base of the triangle ABC: \"))\n",
        "height = float(input(\"Enter the height of the triangle ABC: \"))\n",
        "area = 0.5*base*height\n",
        "print(\"The area of triangle ABC is \",area)"
      ],
      "metadata": {
        "colab": {
          "base_uri": "https://localhost:8080/"
        },
        "id": "nzxypIefadov",
        "outputId": "4b2c601c-2043-4f6b-cf15-33c6996cee8e"
      },
      "execution_count": null,
      "outputs": [
        {
          "output_type": "stream",
          "name": "stdout",
          "text": [
            "Enter the lenghth of base of the triangle ABC: 0.25\n",
            "Enter the height of the triangle ABC: 5.34\n",
            "The area of triangle ABC is  0.6675\n"
          ]
        }
      ]
    },
    {
      "cell_type": "code",
      "source": [
        "#4. Write a program to swap two variables.\n",
        "\n",
        "a = int(input(\"Enter the value of a: \"))\n",
        "b = int(input(\"Enter the value of b: \"))\n",
        "print(f\"original values: a= {a}, b = {b}\" )\n",
        "#use temporary variable to swap the values.\n",
        "temp = a\n",
        "a = b\n",
        "b = temp\n",
        "print(f\"swapped values: a = {a}, b = {b}\" )"
      ],
      "metadata": {
        "colab": {
          "base_uri": "https://localhost:8080/"
        },
        "id": "WUsS2ftLbAih",
        "outputId": "3e28fb6c-98b5-4668-807c-6062f5530398"
      },
      "execution_count": null,
      "outputs": [
        {
          "output_type": "stream",
          "name": "stdout",
          "text": [
            "Enter the value of a: 10\n",
            "Enter the value of b: 20\n",
            "original values: a= 10, b = 20\n",
            "swapped values: a = 20, b = 10\n"
          ]
        }
      ]
    },
    {
      "cell_type": "code",
      "source": [
        "#Generate random number\n",
        "#for this we use 'random' package.\n",
        "import random\n",
        "print(random.randint(0,100))\n",
        "\n",
        "print(f\"Random Number: {random.randint(0,30)}\")"
      ],
      "metadata": {
        "id": "dz1WhKUscBkn",
        "colab": {
          "base_uri": "https://localhost:8080/"
        },
        "outputId": "54d99583-6f79-4d59-d544-48a99d58e238"
      },
      "execution_count": 3,
      "outputs": [
        {
          "output_type": "stream",
          "name": "stdout",
          "text": [
            "11\n",
            "Random Number: 9\n"
          ]
        }
      ]
    },
    {
      "cell_type": "code",
      "source": [],
      "metadata": {
        "id": "7HLKrfXEd4eG"
      },
      "execution_count": null,
      "outputs": []
    }
  ]
}