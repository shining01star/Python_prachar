{
  "nbformat": 4,
  "nbformat_minor": 0,
  "metadata": {
    "colab": {
      "provenance": [],
      "authorship_tag": "ABX9TyNvczlvXKTBgARfCLecuZ1q",
      "include_colab_link": true
    },
    "kernelspec": {
      "name": "python3",
      "display_name": "Python 3"
    },
    "language_info": {
      "name": "python"
    }
  },
  "cells": [
    {
      "cell_type": "markdown",
      "metadata": {
        "id": "view-in-github",
        "colab_type": "text"
      },
      "source": [
        "<a href=\"https://colab.research.google.com/github/shining01star/Python_prachar/blob/main/Untitled12.ipynb\" target=\"_parent\"><img src=\"https://colab.research.google.com/assets/colab-badge.svg\" alt=\"Open In Colab\"/></a>"
      ]
    },
    {
      "cell_type": "code",
      "execution_count": 1,
      "metadata": {
        "colab": {
          "base_uri": "https://localhost:8080/"
        },
        "id": "2OgXIzC3Lv3U",
        "outputId": "af08a0df-3b37-463f-83ae-560814b94d91"
      },
      "outputs": [
        {
          "output_type": "stream",
          "name": "stdout",
          "text": [
            "hello\n"
          ]
        }
      ],
      "source": [
        "print(\"hello\")"
      ]
    },
    {
      "cell_type": "code",
      "source": [
        "#print f/n\n",
        "print(\"hello\", end = \" \")\n",
        "print(\"sakshi\")\n",
        "print(10, 12, 2000, sep = \"-\")\n",
        "\n",
        "#input f/n\n",
        "name = input(\"enter your name\")\n",
        "print(\"hello\", name)"
      ],
      "metadata": {
        "colab": {
          "base_uri": "https://localhost:8080/"
        },
        "id": "509iBPQNQhxH",
        "outputId": "62c099a9-dcac-499b-d780-499dec78cfa3"
      },
      "execution_count": 4,
      "outputs": [
        {
          "output_type": "stream",
          "name": "stdout",
          "text": [
            "hello sakshi\n",
            "10-12-2000\n",
            "enter your namesakshi\n",
            "hello sakshi\n"
          ]
        }
      ]
    },
    {
      "cell_type": "code",
      "source": [
        "a = 20\n",
        "print(bin(a))\n",
        "print(hex(a))\n",
        "print(oct(a))"
      ],
      "metadata": {
        "colab": {
          "base_uri": "https://localhost:8080/"
        },
        "id": "MRXwllqBTrMQ",
        "outputId": "783ad237-258b-4d6a-c4f7-bee88989e63d"
      },
      "execution_count": 6,
      "outputs": [
        {
          "output_type": "stream",
          "name": "stdout",
          "text": [
            "0b10100\n",
            "0x14\n",
            "0o24\n"
          ]
        }
      ]
    },
    {
      "cell_type": "code",
      "source": [
        "#conditional statements\n",
        "if 10<5:\n",
        "  print(\"yes, it is true.\")\n",
        "else:\n",
        "  if 10 == 5:\n",
        "    print(\"no, it is false.\")\n",
        "\n",
        "\n",
        ""
      ],
      "metadata": {
        "id": "699OYAJuVTqN"
      },
      "execution_count": 16,
      "outputs": []
    }
  ]
}